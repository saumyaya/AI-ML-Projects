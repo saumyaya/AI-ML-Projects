{
 "cells": [
  {
   "cell_type": "code",
   "execution_count": 61,
   "id": "bc18266c-ffbc-4e43-ad10-1e430f43ceff",
   "metadata": {
    "ExecuteTime": {
     "end_time": "2025-04-14T15:50:26.725280Z",
     "start_time": "2025-04-14T15:50:26.650724Z"
    }
   },
   "outputs": [],
   "source": [
    "import pandas as pd\n",
    "import numpy as np\n",
    "import matplotlib.pyplot as plt\n",
    "import seaborn as sns\n",
    "import torch\n",
    "import torch.nn as nn\n",
    "from torch.utils.data import Dataset, DataLoader\n",
    "from sklearn.preprocessing import StandardScaler\n",
    "from sklearn.metrics import accuracy_score, f1_score, roc_auc_score\n"
   ]
  },
  {
   "cell_type": "code",
   "execution_count": 62,
   "id": "5a1922fb-188b-45a5-a4c4-af7a8d41e239",
   "metadata": {},
   "outputs": [
    {
     "data": {
      "text/html": [
       "<div>\n",
       "<style scoped>\n",
       "    .dataframe tbody tr th:only-of-type {\n",
       "        vertical-align: middle;\n",
       "    }\n",
       "\n",
       "    .dataframe tbody tr th {\n",
       "        vertical-align: top;\n",
       "    }\n",
       "\n",
       "    .dataframe thead th {\n",
       "        text-align: right;\n",
       "    }\n",
       "</style>\n",
       "<table border=\"1\" class=\"dataframe\">\n",
       "  <thead>\n",
       "    <tr style=\"text-align: right;\">\n",
       "      <th></th>\n",
       "      <th>employee_id</th>\n",
       "      <th>date</th>\n",
       "      <th>performance_score</th>\n",
       "      <th>dept_changes</th>\n",
       "      <th>tenure_months</th>\n",
       "      <th>org_restructuring</th>\n",
       "      <th>economic_index</th>\n",
       "      <th>laid_off</th>\n",
       "    </tr>\n",
       "  </thead>\n",
       "  <tbody>\n",
       "    <tr>\n",
       "      <th>0</th>\n",
       "      <td>E001</td>\n",
       "      <td>2023-01-01</td>\n",
       "      <td>3.74</td>\n",
       "      <td>0</td>\n",
       "      <td>16</td>\n",
       "      <td>0</td>\n",
       "      <td>70.04</td>\n",
       "      <td>0</td>\n",
       "    </tr>\n",
       "    <tr>\n",
       "      <th>1</th>\n",
       "      <td>E001</td>\n",
       "      <td>2023-01-31</td>\n",
       "      <td>3.06</td>\n",
       "      <td>0</td>\n",
       "      <td>17</td>\n",
       "      <td>0</td>\n",
       "      <td>77.00</td>\n",
       "      <td>0</td>\n",
       "    </tr>\n",
       "    <tr>\n",
       "      <th>2</th>\n",
       "      <td>E001</td>\n",
       "      <td>2023-03-02</td>\n",
       "      <td>4.15</td>\n",
       "      <td>0</td>\n",
       "      <td>18</td>\n",
       "      <td>0</td>\n",
       "      <td>79.54</td>\n",
       "      <td>0</td>\n",
       "    </tr>\n",
       "    <tr>\n",
       "      <th>3</th>\n",
       "      <td>E001</td>\n",
       "      <td>2023-04-01</td>\n",
       "      <td>2.74</td>\n",
       "      <td>0</td>\n",
       "      <td>19</td>\n",
       "      <td>0</td>\n",
       "      <td>72.67</td>\n",
       "      <td>0</td>\n",
       "    </tr>\n",
       "    <tr>\n",
       "      <th>4</th>\n",
       "      <td>E001</td>\n",
       "      <td>2023-05-01</td>\n",
       "      <td>3.43</td>\n",
       "      <td>0</td>\n",
       "      <td>20</td>\n",
       "      <td>0</td>\n",
       "      <td>78.84</td>\n",
       "      <td>0</td>\n",
       "    </tr>\n",
       "  </tbody>\n",
       "</table>\n",
       "</div>"
      ],
      "text/plain": [
       "  employee_id       date  performance_score  dept_changes  tenure_months  \\\n",
       "0        E001 2023-01-01               3.74             0             16   \n",
       "1        E001 2023-01-31               3.06             0             17   \n",
       "2        E001 2023-03-02               4.15             0             18   \n",
       "3        E001 2023-04-01               2.74             0             19   \n",
       "4        E001 2023-05-01               3.43             0             20   \n",
       "\n",
       "   org_restructuring  economic_index  laid_off  \n",
       "0                  0           70.04         0  \n",
       "1                  0           77.00         0  \n",
       "2                  0           79.54         0  \n",
       "3                  0           72.67         0  \n",
       "4                  0           78.84         0  "
      ]
     },
     "execution_count": 62,
     "metadata": {},
     "output_type": "execute_result"
    }
   ],
   "source": [
    "df = pd.read_csv('sample_layoff_dataset.csv')\n",
    "df['date'] = pd.to_datetime(df['date'])\n",
    "df.sort_values(by=['employee_id', 'date'], inplace=True)\n",
    "df.head()\n"
   ]
  },
  {
   "cell_type": "code",
   "execution_count": 63,
   "id": "17404138-a593-43b7-acef-3d771cf888ea",
   "metadata": {},
   "outputs": [],
   "source": [
    "features = ['performance_score', 'dept_changes', 'tenure_months', 'org_restructuring', 'economic_index']\n",
    "target = 'laid_off'\n",
    "\n",
    "scaler = StandardScaler()\n",
    "df[features] = scaler.fit_transform(df[features])\n"
   ]
  },
  {
   "cell_type": "code",
   "execution_count": 64,
   "id": "cee57c42-a748-448b-87c4-4d28095560f7",
   "metadata": {},
   "outputs": [],
   "source": [
    "class LayoffDataset(Dataset):\n",
    "    def __init__(self, df, sequence_length=12):\n",
    "        self.sequence_length = sequence_length\n",
    "        self.groups = list(df.groupby('employee_id'))\n",
    "\n",
    "    def __len__(self):\n",
    "        return len(self.groups)\n",
    "\n",
    "    def __getitem__(self, idx):\n",
    "        group = self.groups[idx][1].sort_values('date')\n",
    "        X = group[features].values[-self.sequence_length:]\n",
    "        y = group[target].values[-1]\n",
    "        return torch.tensor(X, dtype=torch.float32), torch.tensor(y, dtype=torch.float32)\n"
   ]
  },
  {
   "cell_type": "code",
   "execution_count": 65,
   "id": "5d8b6890-424e-458b-b19d-1a97ff957013",
   "metadata": {},
   "outputs": [],
   "source": [
    "dataset = LayoffDataset(df)\n",
    "dataloader = DataLoader(dataset, batch_size=16, shuffle=True)\n"
   ]
  },
  {
   "cell_type": "code",
   "execution_count": 66,
   "id": "4355ac4c-c963-4cc0-9c77-4c90f244ab6e",
   "metadata": {},
   "outputs": [],
   "source": [
    "class LayoffRNN(nn.Module):\n",
    "    def __init__(self, input_size, hidden_size, num_layers=1):\n",
    "        super(LayoffRNN, self).__init__()\n",
    "        self.rnn = nn.LSTM(input_size, hidden_size, num_layers, batch_first=True)\n",
    "        self.fc = nn.Linear(hidden_size, 1)\n",
    "        self.sigmoid = nn.Sigmoid()\n",
    "\n",
    "    def forward(self, x):\n",
    "        out, _ = self.rnn(x)\n",
    "        out = out[:, -1, :]  # Take last time step\n",
    "        out = self.fc(out)\n",
    "        return self.sigmoid(out)\n"
   ]
  },
  {
   "cell_type": "code",
   "execution_count": 153,
   "id": "b2ba4bf4-9927-4588-81ee-ba886b7eaab4",
   "metadata": {},
   "outputs": [],
   "source": [
    "from torch.utils.data import random_split\n",
    "\n",
    "# Define sizes\n",
    "train_size = int(0.8 * len(dataset))\n",
    "val_size = len(dataset) - train_size\n",
    "\n",
    "# Split dataset\n",
    "train_dataset, val_dataset = random_split(dataset, [train_size, val_size])\n",
    "\n",
    "# Create data loaders\n",
    "train_loader = DataLoader(train_dataset, batch_size=16, shuffle=True)\n",
    "val_loader = DataLoader(val_dataset, batch_size=16)\n"
   ]
  },
  {
   "cell_type": "code",
   "execution_count": 189,
   "id": "228a004f-9889-4c22-9ba7-c4ac1f6c79a8",
   "metadata": {},
   "outputs": [
    {
     "name": "stdout",
     "output_type": "stream",
     "text": [
      "Epoch 1, Loss: 2.4866\n",
      "Epoch 2, Loss: 1.5939\n",
      "Epoch 3, Loss: 2.4140\n",
      "Epoch 4, Loss: 1.9918\n",
      "Epoch 5, Loss: 1.8136\n",
      "Epoch 6, Loss: 1.5431\n",
      "Epoch 7, Loss: 1.3205\n",
      "Epoch 8, Loss: 1.2062\n",
      "Epoch 9, Loss: 2.2043\n",
      "Epoch 10, Loss: 1.7069\n",
      "Epoch 11, Loss: 1.8917\n",
      "Epoch 12, Loss: 1.2323\n",
      "Epoch 13, Loss: 1.1056\n",
      "Epoch 14, Loss: 0.9213\n",
      "Epoch 15, Loss: 0.8889\n",
      "Epoch 16, Loss: 1.3409\n",
      "Epoch 17, Loss: 1.2060\n",
      "Epoch 18, Loss: 0.6637\n",
      "Epoch 19, Loss: 0.8335\n",
      "Epoch 20, Loss: 0.5900\n"
     ]
    }
   ],
   "source": [
    "model = LayoffRNN(input_size=len(features), hidden_size=64)\n",
    "criterion = nn.BCELoss()\n",
    "optimizer = torch.optim.Adam(model.parameters(), lr=0.01)\n",
    "\n",
    "for epoch in range(20):\n",
    "    total_loss = 0\n",
    "    for X_batch, y_batch in dataloader:\n",
    "        y_pred = model(X_batch).squeeze()\n",
    "        loss = criterion(y_pred, y_batch)\n",
    "        optimizer.zero_grad()\n",
    "        loss.backward()\n",
    "        optimizer.step()\n",
    "        total_loss += loss.item()\n",
    "    print(f\"Epoch {epoch+1}, Loss: {total_loss:.4f}\")\n"
   ]
  },
  {
   "cell_type": "code",
   "execution_count": 190,
   "id": "2899393b-4560-4429-9288-66cbab29799a",
   "metadata": {},
   "outputs": [
    {
     "name": "stdout",
     "output_type": "stream",
     "text": [
      "Accuracy: 0.98\n",
      "F1 Score: 0.9333333333333333\n",
      "ROC AUC: 0.9375\n"
     ]
    }
   ],
   "source": [
    "y_true, y_pred = [], []\n",
    "model.eval()\n",
    "\n",
    "with torch.no_grad():\n",
    "    for X_batch, y_batch in dataloader:\n",
    "        pred = model(X_batch).squeeze()\n",
    "        y_true.extend(y_batch.numpy())\n",
    "        y_pred.extend((pred > 0.5).numpy())\n",
    "\n",
    "print(\"Accuracy:\", accuracy_score(y_true, y_pred))\n",
    "print(\"F1 Score:\", f1_score(y_true, y_pred))\n",
    "print(\"ROC AUC:\", roc_auc_score(y_true, y_pred))\n"
   ]
  },
  {
   "cell_type": "code",
   "execution_count": 191,
   "id": "1a8f72e8-d092-41f2-865e-53b167e5484b",
   "metadata": {},
   "outputs": [
    {
     "name": "stdout",
     "output_type": "stream",
     "text": [
      "Epoch 1, Loss: 0.1195\n",
      "Epoch 2, Loss: 0.1027\n",
      "Epoch 3, Loss: 0.1102\n",
      "Epoch 4, Loss: 0.1222\n",
      "Epoch 5, Loss: 0.1310\n",
      "Epoch 6, Loss: 0.1448\n",
      "Epoch 7, Loss: 0.1749\n",
      "Epoch 8, Loss: 0.2654\n",
      "Epoch 9, Loss: 0.1320\n",
      "Epoch 10, Loss: 0.3681\n",
      "Epoch 11, Loss: 0.4765\n",
      "Epoch 12, Loss: 0.3794\n",
      "Epoch 13, Loss: 0.1355\n",
      "Epoch 14, Loss: 0.2644\n",
      "Epoch 15, Loss: 0.0982\n"
     ]
    }
   ],
   "source": [
    "loss_history = []\n",
    "\n",
    "for epoch in range(15):\n",
    "    total_loss = 0\n",
    "    for X_batch, y_batch in dataloader:\n",
    "        y_pred = model(X_batch).squeeze()\n",
    "        loss = criterion(y_pred, y_batch)\n",
    "        optimizer.zero_grad()\n",
    "        loss.backward()\n",
    "        optimizer.step()\n",
    "        total_loss += loss.item()\n",
    "    \n",
    "    avg_loss = total_loss / len(dataloader)\n",
    "    loss_history.append(avg_loss)\n",
    "    print(f\"Epoch {epoch+1}, Loss: {avg_loss:.4f}\")\n"
   ]
  },
  {
   "cell_type": "code",
   "execution_count": 192,
   "id": "ede27f85-00ff-4b30-9008-3d417b0c7945",
   "metadata": {},
   "outputs": [
    {
     "data": {
      "image/png": "[encoded data removed]",
      "text/plain": [
       "<Figure size 800x400 with 1 Axes>"
      ]
     },
     "metadata": {},
     "output_type": "display_data"
    }
   ],
   "source": [
    "plt.figure(figsize=(8, 4))\n",
    "plt.plot(loss_history, marker='o')\n",
    "plt.title(\"Training Loss Over Epochs\")\n",
    "plt.xlabel(\"Epoch\")\n",
    "plt.ylabel(\"Loss\")\n",
    "plt.grid(True)\n",
    "plt.show()\n"
   ]
  },
  {
   "cell_type": "code",
   "execution_count": 193,
   "id": "ccfebbd9-3bd5-4cc0-8b47-4ad651b80d63",
   "metadata": {},
   "outputs": [
    {
     "data": {
      "image/png": "[encoded data removed]",
      "text/plain": [
       "<Figure size 800x400 with 1 Axes>"
      ]
     },
     "metadata": {},
     "output_type": "display_data"
    }
   ],
   "source": [
    "from sklearn.ensemble import RandomForestClassifier\n",
    "\n",
    "# Create flattened dataset for RF\n",
    "df_rf = df.groupby(\"employee_id\").tail(1).copy()  # Use last row per employee\n",
    "X_rf = df_rf[features]\n",
    "y_rf = df_rf['laid_off']\n",
    "\n",
    "rf = RandomForestClassifier()\n",
    "rf.fit(X_rf, y_rf)\n",
    "\n",
    "importances = rf.feature_importances_\n",
    "sorted_idx = np.argsort(importances)\n",
    "\n",
    "# Plot\n",
    "plt.figure(figsize=(8, 4))\n",
    "plt.barh(range(len(sorted_idx)), importances[sorted_idx], align='center')\n",
    "plt.yticks(range(len(sorted_idx)), [features[i] for i in sorted_idx])\n",
    "plt.title(\"Feature Importance (Random Forest)\")\n",
    "plt.xlabel(\"Importance\")\n",
    "plt.show()\n"
   ]
  },
  {
   "cell_type": "code",
   "execution_count": 194,
   "id": "6a6280eb-8043-42db-b85c-55904512ccb4",
   "metadata": {},
   "outputs": [],
   "source": [
    "torch.save(model.state_dict(), 'layoff_rnn_model.pth')\n"
   ]
  },
  {
   "cell_type": "code",
   "execution_count": 195,
   "id": "9926a216-3a93-403b-97cd-0efec570741e",
   "metadata": {},
   "outputs": [
    {
     "data": {
      "text/plain": [
       "LayoffRNN(\n",
       "  (rnn): LSTM(5, 64, batch_first=True)\n",
       "  (fc): Linear(in_features=64, out_features=1, bias=True)\n",
       "  (sigmoid): Sigmoid()\n",
       ")"
      ]
     },
     "execution_count": 195,
     "metadata": {},
     "output_type": "execute_result"
    }
   ],
   "source": [
    "model = LayoffRNN(input_size=len(features), hidden_size=64)\n",
    "model.load_state_dict(torch.load('layoff_rnn_model.pth'))\n",
    "model.eval()\n"
   ]
  },
  {
   "cell_type": "code",
   "execution_count": null,
   "id": "88bb8fd9-aa55-463c-a629-771dd8c1f398",
   "metadata": {},
   "outputs": [],
   "source": []
  }
 ],
 "metadata": {
  "kernelspec": {
   "display_name": "Python 3 (ipykernel)",
   "language": "python",
   "name": "python3"
  },
  "language_info": {
   "codemirror_mode": {
    "name": "ipython",
    "version": 3
   },
   "file_extension": ".py",
   "mimetype": "text/x-python",
   "name": "python",
   "nbconvert_exporter": "python",
   "pygments_lexer": "ipython3",
   "version": "3.11.1"
  }
 },
 "nbformat": 4,
 "nbformat_minor": 5
}
