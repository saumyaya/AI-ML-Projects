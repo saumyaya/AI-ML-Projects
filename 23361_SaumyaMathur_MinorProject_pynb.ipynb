{
  "nbformat": 4,
  "nbformat_minor": 0,
  "metadata": {
    "colab": {
      "provenance": []
    },
    "kernelspec": {
      "name": "python3",
      "display_name": "Python 3"
    },
    "language_info": {
      "name": "python"
    }
  },
  "cells": [
    {
      "cell_type": "markdown",
      "source": [
        "# **MINOR PROJECT**\n",
        "\n",
        "---\n",
        "\n",
        "\n",
        "\n",
        "\n"
      ],
      "metadata": {
        "id": "3j27_cT6kBA6"
      }
    },
    {
      "cell_type": "markdown",
      "source": [
        "# **TASK 1** - Exploratory Data Analysis"
      ],
      "metadata": {
        "id": "0cMtLrokuof_"
      }
    },
    {
      "cell_type": "code",
      "execution_count": null,
      "metadata": {
        "id": "q9OZfVL77PKq"
      },
      "outputs": [],
      "source": [
        "import pandas as pd\n",
        "import matplotlib.pyplot as plt\n",
        "import numpy as np"
      ]
    },
    {
      "cell_type": "markdown",
      "source": [
        "**Q1. What are the key insights you can derive from the dataset in terms of its structure, size, and basic statistics? Create a summary report ( hint: use pandas .describe() function ). Also share your insights you learned by this report.**"
      ],
      "metadata": {
        "id": "69dekHNmcZ6t"
      }
    },
    {
      "cell_type": "code",
      "source": [
        "# Load the dataset\n",
        "url = 'https://raw.githubusercontent.com/fivethirtyeight/data/master/us-weather-history/KCLT.csv'\n",
        "df = pd.read_csv(url)\n",
        "\n",
        "# Inspect the structure and size of the dataset\n",
        "print(\"Dataset Structure:\")\n",
        "print(df.shape)\n",
        "print(\"\\n\")\n",
        "\n",
        "# View the first few rows of the dataset\n",
        "print(\"First 10 rows:\")\n",
        "print(df.head(10))\n",
        "print(\"\\n\")\n",
        "\n",
        "# Generate a summary report of the dataset\n",
        "print(\"Summary Report:\")\n",
        "print(df.describe())\n"
      ],
      "metadata": {
        "colab": {
          "base_uri": "https://localhost:8080/"
        },
        "id": "oYqgTI_e7RGN",
        "outputId": "d29f768c-ffd1-4415-beec-3766fd38ca86"
      },
      "execution_count": null,
      "outputs": [
        {
          "output_type": "stream",
          "name": "stdout",
          "text": [
            "Dataset Structure:\n",
            "(365, 13)\n",
            "\n",
            "\n",
            "First 10 rows:\n",
            "        date  actual_mean_temp  actual_min_temp  actual_max_temp  \\\n",
            "0   2014-7-1                81               70               91   \n",
            "1   2014-7-2                85               74               95   \n",
            "2   2014-7-3                82               71               93   \n",
            "3   2014-7-4                75               64               86   \n",
            "4   2014-7-5                72               60               84   \n",
            "5   2014-7-6                74               61               87   \n",
            "6   2014-7-7                79               67               91   \n",
            "7   2014-7-8                83               72               94   \n",
            "8   2014-7-9                80               71               89   \n",
            "9  2014-7-10                78               71               85   \n",
            "\n",
            "   average_min_temp  average_max_temp  record_min_temp  record_max_temp  \\\n",
            "0                67                89               56              104   \n",
            "1                68                89               56              101   \n",
            "2                68                89               56               99   \n",
            "3                68                89               55               99   \n",
            "4                68                89               57              100   \n",
            "5                68                89               57               99   \n",
            "6                68                89               55              100   \n",
            "7                68                89               58              101   \n",
            "8                68                89               57              101   \n",
            "9                68                89               53              101   \n",
            "\n",
            "   record_min_temp_year  record_max_temp_year  actual_precipitation  \\\n",
            "0                  1919                  2012                  0.00   \n",
            "1                  2008                  1931                  0.00   \n",
            "2                  2010                  1931                  0.14   \n",
            "3                  1933                  1955                  0.00   \n",
            "4                  1967                  1954                  0.00   \n",
            "5                  1964                  1948                  0.00   \n",
            "6                  1972                  1954                  0.00   \n",
            "7                  1892                  2010                  0.00   \n",
            "8                  1891                  1986                  0.15   \n",
            "9                  1961                  1926                  0.00   \n",
            "\n",
            "   average_precipitation  record_precipitation  \n",
            "0                   0.10                  5.91  \n",
            "1                   0.10                  1.53  \n",
            "2                   0.11                  2.50  \n",
            "3                   0.10                  2.63  \n",
            "4                   0.10                  1.65  \n",
            "5                   0.10                  1.95  \n",
            "6                   0.11                  2.37  \n",
            "7                   0.11                  1.87  \n",
            "8                   0.12                  3.71  \n",
            "9                   0.11                  2.45  \n",
            "\n",
            "\n",
            "Summary Report:\n",
            "       actual_mean_temp  actual_min_temp  actual_max_temp  average_min_temp  \\\n",
            "count        365.000000       365.000000       365.000000        365.000000   \n",
            "mean          61.049315        49.958904        71.630137         48.819178   \n",
            "std           16.061789        16.575533        16.450481         13.832203   \n",
            "min           18.000000         7.000000        26.000000         29.000000   \n",
            "25%           47.000000        37.000000        58.000000         36.000000   \n",
            "50%           63.000000        52.000000        73.000000         48.000000   \n",
            "75%           75.000000        65.000000        86.000000         63.000000   \n",
            "max           88.000000        75.000000       100.000000         68.000000   \n",
            "\n",
            "       average_max_temp  record_min_temp  record_max_temp  \\\n",
            "count        365.000000       365.000000       365.000000   \n",
            "mean          70.983562        31.465753        88.728767   \n",
            "std           13.495207        18.430656         9.961209   \n",
            "min           50.000000        -5.000000        69.000000   \n",
            "25%           58.000000        15.000000        79.000000   \n",
            "50%           72.000000        30.000000        90.000000   \n",
            "75%           84.000000        49.000000        98.000000   \n",
            "max           89.000000        62.000000       104.000000   \n",
            "\n",
            "       record_min_temp_year  record_max_temp_year  actual_precipitation  \\\n",
            "count            365.000000            365.000000            365.000000   \n",
            "mean            1953.279452           1953.989041              0.102411   \n",
            "std               39.170924             33.890497              0.301195   \n",
            "min             1879.000000           1879.000000              0.000000   \n",
            "25%             1918.000000           1931.000000              0.000000   \n",
            "50%             1963.000000           1953.000000              0.000000   \n",
            "75%             1983.000000           1984.000000              0.030000   \n",
            "max             2015.000000           2015.000000              2.650000   \n",
            "\n",
            "       average_precipitation  record_precipitation  \n",
            "count             365.000000            365.000000  \n",
            "mean                0.114082              2.208904  \n",
            "std                 0.013650              0.879378  \n",
            "min                 0.090000              0.850000  \n",
            "25%                 0.100000              1.650000  \n",
            "50%                 0.110000              1.980000  \n",
            "75%                 0.120000              2.540000  \n",
            "max                 0.150000              6.880000  \n"
          ]
        }
      ]
    },
    {
      "cell_type": "markdown",
      "source": [
        "**The summary report findings show us that:**\n",
        "1.  The dataset contains **365** entries, indicating that it represents weather data for a year.\n",
        "2.  The dataset has **7** columns, including **actual_mean_temp, actual_min_temp, actual_max_temp, average_min_temp, average_max_temp, record_min_temp, and record_max_temp.**\n",
        "3.  The **mean, standard deviation, minimum value and quantiles (25%, 50% and 75%)** of each column have been displayed.\n",
        "\n",
        "\n",
        "\n"
      ],
      "metadata": {
        "id": "-aNblVISSGG0"
      }
    },
    {
      "cell_type": "markdown",
      "source": [
        "**Q2. What will be the best way to Visualize the average_min_temprature over year 2014?**"
      ],
      "metadata": {
        "id": "k2B1cuBWci7G"
      }
    },
    {
      "cell_type": "code",
      "source": [
        "# Filter data for the year 2014\n",
        "df_2014 = df[df['date'].str.startswith('2014')].copy()\n",
        "\n",
        "# Convert date column to datetime type\n",
        "df_2014['date'] = pd.to_datetime(df_2014['date'])\n",
        "\n",
        "# Create a scatter plot of average_min_temp over the year 2014\n",
        "plt.figure(figsize=(12, 6))\n",
        "plt.scatter(df_2014['date'], df_2014['average_min_temp'], s=30, alpha=0.5)\n",
        "plt.xlabel('Date')\n",
        "plt.ylabel('Average Minimum Temperature')\n",
        "plt.title('Average Minimum Temperature Over Year 2014')\n",
        "plt.xticks(rotation=45)\n",
        "plt.tight_layout()\n",
        "\n",
        "plt.show()\n"
      ],
      "metadata": {
        "colab": {
          "base_uri": "https://localhost:8080/",
          "height": 607
        },
        "id": "-rpY4DVt7bEJ",
        "outputId": "6849f2d0-9896-405b-f21c-99da6a8f7119"
      },
      "execution_count": null,
      "outputs": [
        {
          "output_type": "display_data",
          "data": {
            "text/plain": [
              "<Figure size 1200x600 with 1 Axes>"
            ],
            "image/png": "[encoded data removed]"
          },
          "metadata": {}
        }
      ]
    },
    {
      "cell_type": "markdown",
      "source": [
        "A **scatter plot** is a good choice for visualizing the average_min_temp over the year 2014 since it has a large number of data points and the individual data points can be seen more clearly."
      ],
      "metadata": {
        "id": "iElAHjn-TUX3"
      }
    },
    {
      "cell_type": "markdown",
      "source": [
        "**Q3. Are there any outliers in actual_max_temp use an appropriate plot to show?**"
      ],
      "metadata": {
        "id": "PfRcrwJcc2d_"
      }
    },
    {
      "cell_type": "code",
      "source": [
        "import matplotlib.pyplot as plt\n",
        "import seaborn as sns\n",
        "\n",
        "# Create the figure and axes\n",
        "fig, ax = plt.subplots()\n",
        "\n",
        "# Plot the box plot\n",
        "sns.boxplot(data=df['actual_max_temp'], ax=ax, color='pink', whis=[0, 100], width=0.5)\n",
        "\n",
        "# Plot the individual data points\n",
        "sns.stripplot(data=df['actual_max_temp'], ax=ax, color='black', jitter=0.2, size=2)\n",
        "\n",
        "# Set the title\n",
        "plt.title('Box Plot (actual_max_temp)')\n",
        "\n",
        "# Display the plot\n",
        "plt.show()\n"
      ],
      "metadata": {
        "colab": {
          "base_uri": "https://localhost:8080/",
          "height": 452
        },
        "id": "_yf8fPOHtm8D",
        "outputId": "0e22bbde-2aa7-40a0-f7ff-0b583a15db2d"
      },
      "execution_count": null,
      "outputs": [
        {
          "output_type": "display_data",
          "data": {
            "text/plain": [
              "<Figure size 640x480 with 1 Axes>"
            ],
            "image/png": "[encoded data removed]"
          },
          "metadata": {}
        }
      ]
    },
    {
      "cell_type": "markdown",
      "source": [
        "A **box plot** can be used to visualize the distribution and identify outliers in the actual_max_temp variable.\n"
      ],
      "metadata": {
        "id": "BNSj_qqvT8nF"
      }
    },
    {
      "cell_type": "markdown",
      "source": [
        "**Q4. Which month has highest average_precipitation over the year 2014 and 2015 , use a suitable filtering of data to find?**"
      ],
      "metadata": {
        "id": "sVbjvXj4c9rO"
      }
    },
    {
      "cell_type": "code",
      "source": [
        "# Filter data for the years 2014 and 2015\n",
        "df_2014_2015 = df[df['date'].str.startswith(('2014', '2015'))]\n",
        "\n",
        "# Extract month from date and calculate average precipitation for each month\n",
        "df_2014_2015['month'] = pd.to_datetime(df_2014_2015['date']).dt.month\n",
        "avg_precipitation_by_month = df_2014_2015.groupby('month')['average_precipitation'].mean()\n",
        "\n",
        "# Find the month with the highest average precipitation\n",
        "month_with_highest_precipitation = avg_precipitation_by_month.idxmax()\n",
        "\n",
        "print(\"Month with the Highest Average Precipitation:\")\n",
        "print(month_with_highest_precipitation)\n"
      ],
      "metadata": {
        "colab": {
          "base_uri": "https://localhost:8080/"
        },
        "id": "1OSFKmMw7x5S",
        "outputId": "c3b0bfec-f18c-40c3-bbce-17dfa46c58b7"
      },
      "execution_count": null,
      "outputs": [
        {
          "output_type": "stream",
          "name": "stdout",
          "text": [
            "Month with the Highest Average Precipitation:\n",
            "8\n"
          ]
        }
      ]
    },
    {
      "cell_type": "markdown",
      "source": [
        "The month with the highest average precipitation over the years 2014 and 2015 is **August** (month 8)."
      ],
      "metadata": {
        "id": "P9e2p1F8WrWs"
      }
    },
    {
      "cell_type": "markdown",
      "source": [
        "**Q5. Print the first 10 rows, then remove the row containing data of ‘2014-7-3’, save this row in a variable of type series (data structure). Print the first 10 rows after removal of row.**"
      ],
      "metadata": {
        "id": "fpyu0ho6dI6S"
      }
    },
    {
      "cell_type": "code",
      "source": [
        "# Remove row containing '2014-7-3' and save it in a variable\n",
        "row_to_remove = df[df['date'] == '2014-07-03']\n",
        "df_filtered = df[df['date'] != '2014-07-03']\n",
        "\n",
        "# View the first 10 rows after removing the row\n",
        "print(\"First 10 rows after removal of '2014-7-3':\")\n",
        "print(df_filtered.head(10))\n"
      ],
      "metadata": {
        "colab": {
          "base_uri": "https://localhost:8080/"
        },
        "id": "rJeVq0eB78eN",
        "outputId": "3a86a0a7-de00-4492-c2e1-5c1f8ee80612"
      },
      "execution_count": null,
      "outputs": [
        {
          "output_type": "stream",
          "name": "stdout",
          "text": [
            "First 10 rows after removal of '2014-7-3':\n",
            "        date  actual_mean_temp  actual_min_temp  actual_max_temp  \\\n",
            "0   2014-7-1                81               70               91   \n",
            "1   2014-7-2                85               74               95   \n",
            "2   2014-7-3                82               71               93   \n",
            "3   2014-7-4                75               64               86   \n",
            "4   2014-7-5                72               60               84   \n",
            "5   2014-7-6                74               61               87   \n",
            "6   2014-7-7                79               67               91   \n",
            "7   2014-7-8                83               72               94   \n",
            "8   2014-7-9                80               71               89   \n",
            "9  2014-7-10                78               71               85   \n",
            "\n",
            "   average_min_temp  average_max_temp  record_min_temp  record_max_temp  \\\n",
            "0                67                89               56              104   \n",
            "1                68                89               56              101   \n",
            "2                68                89               56               99   \n",
            "3                68                89               55               99   \n",
            "4                68                89               57              100   \n",
            "5                68                89               57               99   \n",
            "6                68                89               55              100   \n",
            "7                68                89               58              101   \n",
            "8                68                89               57              101   \n",
            "9                68                89               53              101   \n",
            "\n",
            "   record_min_temp_year  record_max_temp_year  actual_precipitation  \\\n",
            "0                  1919                  2012                  0.00   \n",
            "1                  2008                  1931                  0.00   \n",
            "2                  2010                  1931                  0.14   \n",
            "3                  1933                  1955                  0.00   \n",
            "4                  1967                  1954                  0.00   \n",
            "5                  1964                  1948                  0.00   \n",
            "6                  1972                  1954                  0.00   \n",
            "7                  1892                  2010                  0.00   \n",
            "8                  1891                  1986                  0.15   \n",
            "9                  1961                  1926                  0.00   \n",
            "\n",
            "   average_precipitation  record_precipitation  \n",
            "0                   0.10                  5.91  \n",
            "1                   0.10                  1.53  \n",
            "2                   0.11                  2.50  \n",
            "3                   0.10                  2.63  \n",
            "4                   0.10                  1.65  \n",
            "5                   0.10                  1.95  \n",
            "6                   0.11                  2.37  \n",
            "7                   0.11                  1.87  \n",
            "8                   0.12                  3.71  \n",
            "9                   0.11                  2.45  \n"
          ]
        }
      ]
    },
    {
      "cell_type": "markdown",
      "source": [
        "After removing the row containing data for '2014-7-3' from the dataset, we can observe that the dataset now consists of the first 10 rows after the removal."
      ],
      "metadata": {
        "id": "bqM920SyX-tQ"
      }
    },
    {
      "cell_type": "markdown",
      "source": [
        "# **TASK 2** - Regression"
      ],
      "metadata": {
        "id": "Ox8z7yNIwosG"
      }
    },
    {
      "cell_type": "markdown",
      "source": [
        "\n",
        "\n",
        "The data provided represents weather history data for a particular area, the problem can be approached as a regression analysis.\n",
        "\n",
        "Step 1: Data Preprocessing\n",
        "\n",
        "First, we need to import the necessary libraries and load the dataset."
      ],
      "metadata": {
        "id": "VqPUPqZ2Dbmy"
      }
    },
    {
      "cell_type": "code",
      "source": [
        "import pandas as pd\n",
        "\n",
        "# Load the dataset\n",
        "url = 'https://raw.githubusercontent.com/fivethirtyeight/data/master/us-weather-history/KCLT.csv'\n",
        "df = pd.read_csv(url)\n",
        "\n"
      ],
      "metadata": {
        "id": "eQF0NBk0hqAp"
      },
      "execution_count": null,
      "outputs": []
    },
    {
      "cell_type": "markdown",
      "source": [
        "Step 2: Feature Engineering\n",
        "\n",
        "We can perform feature engineering by manipulating and transforming the existing features or creating new ones based on domain knowledge. Here, we will extract the year, month, and day from the \"date\" column."
      ],
      "metadata": {
        "id": "KzngbAqjmFLF"
      }
    },
    {
      "cell_type": "code",
      "source": [
        "# Extract year, month, and day from the date column\n",
        "df['date'] = pd.to_datetime(df['date'])\n",
        "df['year'] = df['date'].dt.year\n",
        "df['month'] = df['date'].dt.month\n",
        "df['day'] = df['date'].dt.day\n"
      ],
      "metadata": {
        "id": "fp-js_nwld_V"
      },
      "execution_count": null,
      "outputs": []
    },
    {
      "cell_type": "markdown",
      "source": [
        "Step 3: Split dataset into train-test\n",
        "\n",
        "Next, we split the dataset into a training set and a testing set using an 80:20 ratio."
      ],
      "metadata": {
        "id": "aruRehI9mIh8"
      }
    },
    {
      "cell_type": "code",
      "source": [
        "from sklearn.model_selection import train_test_split\n",
        "\n",
        "# Select the features and target variable\n",
        "features = ['year', 'month', 'day', 'actual_mean_temp', 'actual_precipitation']\n",
        "target = 'actual_max_temp'\n",
        "\n",
        "# Split the dataset into train and test sets\n",
        "train_df, test_df = train_test_split(df, test_size=0.2, random_state=42)\n",
        "X_train = train_df[features]\n",
        "y_train = train_df[target]\n",
        "X_test = test_df[features]\n",
        "y_test = test_df[target]\n"
      ],
      "metadata": {
        "id": "A7cJpAIAlg7g"
      },
      "execution_count": null,
      "outputs": []
    },
    {
      "cell_type": "markdown",
      "source": [
        "Step 4: Model Selection\n",
        "\n",
        "Now, we need to select a model for training. We will use a decision tree regressor.\n",
        "\n"
      ],
      "metadata": {
        "id": "A0ATkecpmMNH"
      }
    },
    {
      "cell_type": "code",
      "source": [
        "from sklearn.tree import DecisionTreeRegressor\n",
        "\n",
        "# Create the model\n",
        "model = DecisionTreeRegressor(random_state=42)\n"
      ],
      "metadata": {
        "id": "xzJHCfFTlkKp"
      },
      "execution_count": null,
      "outputs": []
    },
    {
      "cell_type": "markdown",
      "source": [
        "Step 5: Model Training\n",
        "\n",
        "We can train the model using the training dataset."
      ],
      "metadata": {
        "id": "LbYXMz3lmUSY"
      }
    },
    {
      "cell_type": "code",
      "source": [
        "# Train the model\n",
        "model.fit(X_train, y_train)\n"
      ],
      "metadata": {
        "colab": {
          "base_uri": "https://localhost:8080/",
          "height": 75
        },
        "id": "28KnoArWloGi",
        "outputId": "5ea550da-d7a6-4f13-f8b6-f622b9cf4633"
      },
      "execution_count": null,
      "outputs": [
        {
          "output_type": "execute_result",
          "data": {
            "text/plain": [
              "DecisionTreeRegressor(random_state=42)"
            ],
            "text/html": [
              "<style>#sk-container-id-3 {color: black;background-color: white;}#sk-container-id-3 pre{padding: 0;}#sk-container-id-3 div.sk-toggleable {background-color: white;}#sk-container-id-3 label.sk-toggleable__label {cursor: pointer;display: block;width: 100%;margin-bottom: 0;padding: 0.3em;box-sizing: border-box;text-align: center;}#sk-container-id-3 label.sk-toggleable__label-arrow:before {content: \"▸\";float: left;margin-right: 0.25em;color: #696969;}#sk-container-id-3 label.sk-toggleable__label-arrow:hover:before {color: black;}#sk-container-id-3 div.sk-estimator:hover label.sk-toggleable__label-arrow:before {color: black;}#sk-container-id-3 div.sk-toggleable__content {max-height: 0;max-width: 0;overflow: hidden;text-align: left;background-color: #f0f8ff;}#sk-container-id-3 div.sk-toggleable__content pre {margin: 0.2em;color: black;border-radius: 0.25em;background-color: #f0f8ff;}#sk-container-id-3 input.sk-toggleable__control:checked~div.sk-toggleable__content {max-height: 200px;max-width: 100%;overflow: auto;}#sk-container-id-3 input.sk-toggleable__control:checked~label.sk-toggleable__label-arrow:before {content: \"▾\";}#sk-container-id-3 div.sk-estimator input.sk-toggleable__control:checked~label.sk-toggleable__label {background-color: #d4ebff;}#sk-container-id-3 div.sk-label input.sk-toggleable__control:checked~label.sk-toggleable__label {background-color: #d4ebff;}#sk-container-id-3 input.sk-hidden--visually {border: 0;clip: rect(1px 1px 1px 1px);clip: rect(1px, 1px, 1px, 1px);height: 1px;margin: -1px;overflow: hidden;padding: 0;position: absolute;width: 1px;}#sk-container-id-3 div.sk-estimator {font-family: monospace;background-color: #f0f8ff;border: 1px dotted black;border-radius: 0.25em;box-sizing: border-box;margin-bottom: 0.5em;}#sk-container-id-3 div.sk-estimator:hover {background-color: #d4ebff;}#sk-container-id-3 div.sk-parallel-item::after {content: \"\";width: 100%;border-bottom: 1px solid gray;flex-grow: 1;}#sk-container-id-3 div.sk-label:hover label.sk-toggleable__label {background-color: #d4ebff;}#sk-container-id-3 div.sk-serial::before {content: \"\";position: absolute;border-left: 1px solid gray;box-sizing: border-box;top: 0;bottom: 0;left: 50%;z-index: 0;}#sk-container-id-3 div.sk-serial {display: flex;flex-direction: column;align-items: center;background-color: white;padding-right: 0.2em;padding-left: 0.2em;position: relative;}#sk-container-id-3 div.sk-item {position: relative;z-index: 1;}#sk-container-id-3 div.sk-parallel {display: flex;align-items: stretch;justify-content: center;background-color: white;position: relative;}#sk-container-id-3 div.sk-item::before, #sk-container-id-3 div.sk-parallel-item::before {content: \"\";position: absolute;border-left: 1px solid gray;box-sizing: border-box;top: 0;bottom: 0;left: 50%;z-index: -1;}#sk-container-id-3 div.sk-parallel-item {display: flex;flex-direction: column;z-index: 1;position: relative;background-color: white;}#sk-container-id-3 div.sk-parallel-item:first-child::after {align-self: flex-end;width: 50%;}#sk-container-id-3 div.sk-parallel-item:last-child::after {align-self: flex-start;width: 50%;}#sk-container-id-3 div.sk-parallel-item:only-child::after {width: 0;}#sk-container-id-3 div.sk-dashed-wrapped {border: 1px dashed gray;margin: 0 0.4em 0.5em 0.4em;box-sizing: border-box;padding-bottom: 0.4em;background-color: white;}#sk-container-id-3 div.sk-label label {font-family: monospace;font-weight: bold;display: inline-block;line-height: 1.2em;}#sk-container-id-3 div.sk-label-container {text-align: center;}#sk-container-id-3 div.sk-container {/* jupyter's `normalize.less` sets `[hidden] { display: none; }` but bootstrap.min.css set `[hidden] { display: none !important; }` so we also need the `!important` here to be able to override the default hidden behavior on the sphinx rendered scikit-learn.org. See: https://github.com/scikit-learn/scikit-learn/issues/21755 */display: inline-block !important;position: relative;}#sk-container-id-3 div.sk-text-repr-fallback {display: none;}</style><div id=\"sk-container-id-3\" class=\"sk-top-container\"><div class=\"sk-text-repr-fallback\"><pre>DecisionTreeRegressor(random_state=42)</pre><b>In a Jupyter environment, please rerun this cell to show the HTML representation or trust the notebook. <br />On GitHub, the HTML representation is unable to render, please try loading this page with nbviewer.org.</b></div><div class=\"sk-container\" hidden><div class=\"sk-item\"><div class=\"sk-estimator sk-toggleable\"><input class=\"sk-toggleable__control sk-hidden--visually\" id=\"sk-estimator-id-3\" type=\"checkbox\" checked><label for=\"sk-estimator-id-3\" class=\"sk-toggleable__label sk-toggleable__label-arrow\">DecisionTreeRegressor</label><div class=\"sk-toggleable__content\"><pre>DecisionTreeRegressor(random_state=42)</pre></div></div></div></div></div>"
            ]
          },
          "metadata": {},
          "execution_count": 42
        }
      ]
    },
    {
      "cell_type": "markdown",
      "source": [
        "Step 6: Model Evaluation\n",
        "\n",
        "Evaluate the model's performance using appropriate evaluation metrics."
      ],
      "metadata": {
        "id": "Hywdijzgmjgd"
      }
    },
    {
      "cell_type": "code",
      "source": [
        "from sklearn.metrics import mean_squared_error, r2_score\n",
        "\n",
        "# Make predictions on the test set\n",
        "y_pred = model.predict(X_test)\n",
        "\n",
        "# Calculate evaluation metrics\n",
        "mse = mean_squared_error(y_test, y_pred)\n",
        "r2 = r2_score(y_test, y_pred)\n",
        "\n",
        "# Print evaluation metrics\n",
        "print(\"Mean Squared Error:\", mse)\n",
        "print(\"R-squared:\", r2)\n"
      ],
      "metadata": {
        "colab": {
          "base_uri": "https://localhost:8080/"
        },
        "id": "h4uYKkUElq-a",
        "outputId": "882600f6-a37f-42c8-bee8-11c90621f061"
      },
      "execution_count": null,
      "outputs": [
        {
          "output_type": "stream",
          "name": "stdout",
          "text": [
            "Mean Squared Error: 12.931506849315069\n",
            "R-squared: 0.9572125044394386\n"
          ]
        }
      ]
    },
    {
      "cell_type": "markdown",
      "source": [
        "Step 7: Fine-tune the Model\n",
        "\n",
        "We can fine-tune the model by adjusting its hyperparameters. Here, we can tune the maximum depth of the decision tree."
      ],
      "metadata": {
        "id": "02yqq2-emopI"
      }
    },
    {
      "cell_type": "code",
      "source": [
        "from sklearn.model_selection import GridSearchCV\n",
        "\n",
        "# Define the hyperparameters to tune\n",
        "param_grid = {'max_depth': [3, 5, 7, 9]}\n",
        "\n",
        "# Create the grid search object\n",
        "grid_search = GridSearchCV(model, param_grid, cv=5)\n",
        "\n",
        "# Fit the grid search to the training data\n",
        "grid_search.fit(X_train, y_train)\n",
        "\n",
        "# Get the best model\n",
        "best_model = grid_search.best_estimator_\n"
      ],
      "metadata": {
        "id": "c8DxqFwFlt0q"
      },
      "execution_count": null,
      "outputs": []
    },
    {
      "cell_type": "markdown",
      "source": [
        "Step 8: Make Predictions\n",
        "\n",
        "Finally, we can use the trained model to make predictions on new data."
      ],
      "metadata": {
        "id": "0vwmYRIMmuUa"
      }
    },
    {
      "cell_type": "code",
      "source": [
        "# Make predictions using the best model\n",
        "y_pred = best_model.predict(X_test)\n"
      ],
      "metadata": {
        "id": "zMu7PO8XlwnI"
      },
      "execution_count": null,
      "outputs": []
    },
    {
      "cell_type": "markdown",
      "source": [
        "Step 9: Model Performance Summary\n",
        "\n",
        "Summarize the model's performance using evaluation metrics."
      ],
      "metadata": {
        "id": "wS2t7l58nCOP"
      }
    },
    {
      "cell_type": "code",
      "source": [
        "# Calculate evaluation metrics for the best model\n",
        "mse = mean_squared_error(y_test, y_pred)\n",
        "r2 = r2_score(y_test, y_pred)\n",
        "modelscore=model.score(X_train, y_train)\n",
        "\n",
        "# Print the summary of model performance\n",
        "print(\"Best Model's Performance Summary:\")\n",
        "print(\"Mean Squared Error:\", mse)\n",
        "print(\"R2 score:\", r2)\n",
        "print(\"Model Score:\",modelscore)\n"
      ],
      "metadata": {
        "colab": {
          "base_uri": "https://localhost:8080/"
        },
        "id": "kn9ki7ThlzVA",
        "outputId": "50c70106-ec98-48b3-d1c5-a572e173f283"
      },
      "execution_count": null,
      "outputs": [
        {
          "output_type": "stream",
          "name": "stdout",
          "text": [
            "Best Model's Performance Summary:\n",
            "Mean Squared Error: 10.765276932252192\n",
            "R2 score: 0.9643800800390596\n",
            "Model Score: 1.0\n"
          ]
        }
      ]
    },
    {
      "cell_type": "code",
      "source": [],
      "metadata": {
        "id": "2jjwvPDHl1-8"
      },
      "execution_count": null,
      "outputs": []
    }
  ]
}